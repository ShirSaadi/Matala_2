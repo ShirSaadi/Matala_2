{
 "cells": [
  {
   "cell_type": "markdown",
   "id": "3401430f-e6da-44aa-ac29-171de6c1365a",
   "metadata": {},
   "source": [
    "# MATALA 2"
   ]
  },
  {
   "cell_type": "markdown",
   "id": "189298b2-591f-4ecd-b6e1-cf4a3a632267",
   "metadata": {
    "tags": []
   },
   "source": [
    "### by : \n",
    "###      Shir Saadi 207378415"
   ]
  },
  {
   "cell_type": "code",
   "execution_count": 1,
   "id": "87be9e24-0e10-4892-b20b-ee5c744dd497",
   "metadata": {
    "tags": []
   },
   "outputs": [],
   "source": [
    "import pandas as pd\n",
    "import numpy as np\n",
    "import matplotlib.pyplot as plt\n",
    "import re"
   ]
  },
  {
   "cell_type": "code",
   "execution_count": 2,
   "id": "9329d19f-b831-40ae-a881-dbca7e54d8bf",
   "metadata": {
    "tags": []
   },
   "outputs": [
    {
     "name": "stderr",
     "output_type": "stream",
     "text": [
      "C:\\Users\\shirs\\AppData\\Local\\Temp\\ipykernel_7652\\1326818623.py:2: DtypeWarning: Columns (6) have mixed types. Specify dtype option on import or set low_memory=False.\n",
      "  data = pd.read_csv(PATH)\n"
     ]
    },
    {
     "data": {
      "text/html": [
       "<div>\n",
       "<style scoped>\n",
       "    .dataframe tbody tr th:only-of-type {\n",
       "        vertical-align: middle;\n",
       "    }\n",
       "\n",
       "    .dataframe tbody tr th {\n",
       "        vertical-align: top;\n",
       "    }\n",
       "\n",
       "    .dataframe thead th {\n",
       "        text-align: right;\n",
       "    }\n",
       "</style>\n",
       "<table border=\"1\" class=\"dataframe\">\n",
       "  <thead>\n",
       "    <tr style=\"text-align: right;\">\n",
       "      <th></th>\n",
       "      <th>event_time</th>\n",
       "      <th>event_type</th>\n",
       "      <th>product_id</th>\n",
       "      <th>category_id</th>\n",
       "      <th>category_code</th>\n",
       "      <th>brand</th>\n",
       "      <th>price</th>\n",
       "      <th>user_id</th>\n",
       "      <th>user_session</th>\n",
       "    </tr>\n",
       "  </thead>\n",
       "  <tbody>\n",
       "    <tr>\n",
       "      <th>0</th>\n",
       "      <td>2019-11-01 00:00:02 UTC</td>\n",
       "      <td>view</td>\n",
       "      <td>5802432</td>\n",
       "      <td>1487580009286598681</td>\n",
       "      <td>NaN</td>\n",
       "      <td>NaN</td>\n",
       "      <td>0.32</td>\n",
       "      <td>562076640</td>\n",
       "      <td>09fafd6c-6c99-46b1-834f-33527f4de241</td>\n",
       "    </tr>\n",
       "    <tr>\n",
       "      <th>1</th>\n",
       "      <td>2019-11-01 00:00:09 UTC</td>\n",
       "      <td>cart</td>\n",
       "      <td>5844397</td>\n",
       "      <td>1487580006317032337</td>\n",
       "      <td>NaN</td>\n",
       "      <td>NaN</td>\n",
       "      <td>2.38</td>\n",
       "      <td>553329724</td>\n",
       "      <td>2067216c-31b5-455d-a1cc-af0575a34ffb</td>\n",
       "    </tr>\n",
       "    <tr>\n",
       "      <th>2</th>\n",
       "      <td>2019-11-01 00:00:10 UTC</td>\n",
       "      <td>view</td>\n",
       "      <td>5837166</td>\n",
       "      <td>1783999064103190764</td>\n",
       "      <td>NaN</td>\n",
       "      <td>pnb</td>\n",
       "      <td>22.22</td>\n",
       "      <td>556138645</td>\n",
       "      <td>57ed222e-a54a-4907-9944-5a875c2d7f4f</td>\n",
       "    </tr>\n",
       "    <tr>\n",
       "      <th>3</th>\n",
       "      <td>2019-11-01 00:00:11 UTC</td>\n",
       "      <td>cart</td>\n",
       "      <td>5876812</td>\n",
       "      <td>1487580010100293687</td>\n",
       "      <td>NaN</td>\n",
       "      <td>jessnail</td>\n",
       "      <td>3.16</td>\n",
       "      <td>564506666</td>\n",
       "      <td>186c1951-8052-4b37-adce-dd9644b1d5f7</td>\n",
       "    </tr>\n",
       "    <tr>\n",
       "      <th>4</th>\n",
       "      <td>2019-11-01 00:00:24 UTC</td>\n",
       "      <td>remove_from_cart</td>\n",
       "      <td>5826182</td>\n",
       "      <td>1487580007483048900</td>\n",
       "      <td>NaN</td>\n",
       "      <td>NaN</td>\n",
       "      <td>3.33</td>\n",
       "      <td>553329724</td>\n",
       "      <td>2067216c-31b5-455d-a1cc-af0575a34ffb</td>\n",
       "    </tr>\n",
       "  </tbody>\n",
       "</table>\n",
       "</div>"
      ],
      "text/plain": [
       "                event_time        event_type  product_id          category_id  \\\n",
       "0  2019-11-01 00:00:02 UTC              view     5802432  1487580009286598681   \n",
       "1  2019-11-01 00:00:09 UTC              cart     5844397  1487580006317032337   \n",
       "2  2019-11-01 00:00:10 UTC              view     5837166  1783999064103190764   \n",
       "3  2019-11-01 00:00:11 UTC              cart     5876812  1487580010100293687   \n",
       "4  2019-11-01 00:00:24 UTC  remove_from_cart     5826182  1487580007483048900   \n",
       "\n",
       "  category_code     brand  price    user_id  \\\n",
       "0           NaN       NaN   0.32  562076640   \n",
       "1           NaN       NaN   2.38  553329724   \n",
       "2           NaN       pnb  22.22  556138645   \n",
       "3           NaN  jessnail   3.16  564506666   \n",
       "4           NaN       NaN   3.33  553329724   \n",
       "\n",
       "                           user_session  \n",
       "0  09fafd6c-6c99-46b1-834f-33527f4de241  \n",
       "1  2067216c-31b5-455d-a1cc-af0575a34ffb  \n",
       "2  57ed222e-a54a-4907-9944-5a875c2d7f4f  \n",
       "3  186c1951-8052-4b37-adce-dd9644b1d5f7  \n",
       "4  2067216c-31b5-455d-a1cc-af0575a34ffb  "
      ]
     },
     "execution_count": 2,
     "metadata": {},
     "output_type": "execute_result"
    }
   ],
   "source": [
    "PATH = \"C:\\\\Users\\\\shirs\\\\Desktop\\\\shir saadi\\\\שנה ג סמסטר ב\\\\כרייה וניתוח נתונים מתקדם בפייתון\\\\מטלות\\\\מטלה 2\\\\matala2_cosmetics_2019-Nov.csv\"\n",
    "data = pd.read_csv(PATH) \n",
    "data.head()"
   ]
  },
  {
   "cell_type": "markdown",
   "id": "64a9dc8b-2f56-4a77-a780-4a35223578da",
   "metadata": {
    "tags": []
   },
   "source": [
    "## Q1 : "
   ]
  },
  {
   "cell_type": "code",
   "execution_count": 3,
   "id": "db1135e0-6d6a-4b35-bc3f-d28761437f42",
   "metadata": {},
   "outputs": [],
   "source": [
    "# convert a string into a pandas DateTime object\n",
    "data['event_time'] = pd.to_datetime(data['event_time'])\n",
    "\n",
    "# sort data by user_id, user_session, and event_time\n",
    "data.sort_values(['user_id', 'user_session','event_time'], inplace=True)\n",
    "data.reset_index(inplace=True, drop=True) \n",
    "\n",
    "#חישוב הפרש זמן בשניות בין כל אירוע לאירוע הבא, באותו הביקור\n",
    "#קיבוץ על בסיס מזהה_משתמש ועל מזהה ביקור,וחישוב הפרש זמן בשניות על זמן_אירוע\n",
    "data['duration_to_next_event'] = (data.groupby(['user_id', 'user_session'])['event_time'].diff().dt.total_seconds().fillna(0))\n"
   ]
  },
  {
   "cell_type": "markdown",
   "id": "dc30d60d-cfaf-4023-b9c5-156633956da7",
   "metadata": {
    "tags": []
   },
   "source": [
    "## Q2 : "
   ]
  },
  {
   "cell_type": "code",
   "execution_count": 4,
   "id": "d700d3fe-fd3e-4394-b106-4aa4dfa3b81f",
   "metadata": {},
   "outputs": [],
   "source": [
    "# sort data by event_time ,user_id and user_session \n",
    "data.sort_values([ 'event_time','user_id', 'user_session'], inplace=True)\n",
    "\n",
    "# חישוב הפרש ימים בין אירוע לאירוע עבור כל מזהה_משתמש\n",
    "data['day_time_diff'] = data.groupby(['user_id'])['event_time'].diff().dt.days.fillna(0)\n",
    "\n",
    "#עבור כל פעם בהם בין שורה לשורה (עבור אותו מזהה_משתמש) יש מעל 5 ימים - מבצע סכימה של מספר הפעמים שתנאי זה מתקיים (כמובן עבור כל מזהה_משתמש) כדי לקבל את מספר הפאנל\n",
    "data['funnel_number'] = (data['day_time_diff'] > 5).groupby(data['user_id']).cumsum() + 1\n",
    "\n",
    "#מייון נוסף\n",
    "data.sort_values(['user_id','event_time', 'user_session'], inplace=True)\n",
    "data.reset_index(inplace=True, drop=True)\n",
    "\n",
    "del data['day_time_diff']\n"
   ]
  },
  {
   "cell_type": "markdown",
   "id": "cc3b54ab-7a25-41ae-826b-5d316bc0972a",
   "metadata": {
    "tags": []
   },
   "source": [
    "## Q3 : "
   ]
  },
  {
   "cell_type": "code",
   "execution_count": 5,
   "id": "ec925c14-66b1-4e87-a5ef-e72d1e4a2d1a",
   "metadata": {},
   "outputs": [],
   "source": [
    "data['index_in_funnel'] = data.groupby(['user_id', 'funnel_number']).cumcount() + 1"
   ]
  },
  {
   "cell_type": "markdown",
   "id": "547e8944-c7a2-465a-9b9d-23a43aa3219b",
   "metadata": {
    "tags": []
   },
   "source": [
    "## Q4 : "
   ]
  },
  {
   "cell_type": "code",
   "execution_count": 6,
   "id": "a61b9f41-d65d-40ed-8403-384f07d90151",
   "metadata": {},
   "outputs": [
    {
     "data": {
      "text/html": [
       "<div>\n",
       "<style scoped>\n",
       "    .dataframe tbody tr th:only-of-type {\n",
       "        vertical-align: middle;\n",
       "    }\n",
       "\n",
       "    .dataframe tbody tr th {\n",
       "        vertical-align: top;\n",
       "    }\n",
       "\n",
       "    .dataframe thead th {\n",
       "        text-align: right;\n",
       "    }\n",
       "</style>\n",
       "<table border=\"1\" class=\"dataframe\">\n",
       "  <thead>\n",
       "    <tr style=\"text-align: right;\">\n",
       "      <th></th>\n",
       "      <th>event_time</th>\n",
       "      <th>event_type</th>\n",
       "      <th>product_id</th>\n",
       "      <th>category_id</th>\n",
       "      <th>category_code</th>\n",
       "      <th>brand</th>\n",
       "      <th>price</th>\n",
       "      <th>user_id</th>\n",
       "      <th>user_session</th>\n",
       "      <th>duration_to_next_event</th>\n",
       "      <th>funnel_number</th>\n",
       "      <th>index_in_funnel</th>\n",
       "    </tr>\n",
       "  </thead>\n",
       "  <tbody>\n",
       "    <tr>\n",
       "      <th>0</th>\n",
       "      <td>2019-11-04 15:28:57+00:00</td>\n",
       "      <td>view</td>\n",
       "      <td>5240</td>\n",
       "      <td>1487580009202712597</td>\n",
       "      <td>NaN</td>\n",
       "      <td>runail</td>\n",
       "      <td>4.05</td>\n",
       "      <td>1120748</td>\n",
       "      <td>d0484d94-7ac1-44e8-a310-2360da11ad9d</td>\n",
       "      <td>0.0</td>\n",
       "      <td>1</td>\n",
       "      <td>1</td>\n",
       "    </tr>\n",
       "    <tr>\n",
       "      <th>1</th>\n",
       "      <td>2019-11-19 09:56:09+00:00</td>\n",
       "      <td>view</td>\n",
       "      <td>5711145</td>\n",
       "      <td>1487580005008409427</td>\n",
       "      <td>NaN</td>\n",
       "      <td>f.o.x</td>\n",
       "      <td>6.03</td>\n",
       "      <td>1458813</td>\n",
       "      <td>b16644a2-44db-4650-8156-f6f03782d432</td>\n",
       "      <td>0.0</td>\n",
       "      <td>1</td>\n",
       "      <td>1</td>\n",
       "    </tr>\n",
       "    <tr>\n",
       "      <th>2</th>\n",
       "      <td>2019-11-19 11:14:48+00:00</td>\n",
       "      <td>view</td>\n",
       "      <td>5814066</td>\n",
       "      <td>1487580005855658874</td>\n",
       "      <td>NaN</td>\n",
       "      <td>grattol</td>\n",
       "      <td>2.30</td>\n",
       "      <td>1458813</td>\n",
       "      <td>6873a205-d9f5-4d51-b3eb-b4bfddfe907c</td>\n",
       "      <td>0.0</td>\n",
       "      <td>1</td>\n",
       "      <td>2</td>\n",
       "    </tr>\n",
       "    <tr>\n",
       "      <th>3</th>\n",
       "      <td>2019-11-20 11:58:06+00:00</td>\n",
       "      <td>view</td>\n",
       "      <td>5800358</td>\n",
       "      <td>1487580005553668971</td>\n",
       "      <td>NaN</td>\n",
       "      <td>NaN</td>\n",
       "      <td>7.46</td>\n",
       "      <td>1458813</td>\n",
       "      <td>921ff98c-a419-4132-af94-ee26880334b0</td>\n",
       "      <td>0.0</td>\n",
       "      <td>1</td>\n",
       "      <td>3</td>\n",
       "    </tr>\n",
       "    <tr>\n",
       "      <th>4</th>\n",
       "      <td>2019-11-20 11:58:27+00:00</td>\n",
       "      <td>view</td>\n",
       "      <td>5800349</td>\n",
       "      <td>1487580005553668971</td>\n",
       "      <td>NaN</td>\n",
       "      <td>NaN</td>\n",
       "      <td>7.46</td>\n",
       "      <td>1458813</td>\n",
       "      <td>921ff98c-a419-4132-af94-ee26880334b0</td>\n",
       "      <td>21.0</td>\n",
       "      <td>1</td>\n",
       "      <td>4</td>\n",
       "    </tr>\n",
       "  </tbody>\n",
       "</table>\n",
       "</div>"
      ],
      "text/plain": [
       "                 event_time event_type  product_id          category_id  \\\n",
       "0 2019-11-04 15:28:57+00:00       view        5240  1487580009202712597   \n",
       "1 2019-11-19 09:56:09+00:00       view     5711145  1487580005008409427   \n",
       "2 2019-11-19 11:14:48+00:00       view     5814066  1487580005855658874   \n",
       "3 2019-11-20 11:58:06+00:00       view     5800358  1487580005553668971   \n",
       "4 2019-11-20 11:58:27+00:00       view     5800349  1487580005553668971   \n",
       "\n",
       "  category_code    brand  price  user_id  \\\n",
       "0           NaN   runail   4.05  1120748   \n",
       "1           NaN    f.o.x   6.03  1458813   \n",
       "2           NaN  grattol   2.30  1458813   \n",
       "3           NaN      NaN   7.46  1458813   \n",
       "4           NaN      NaN   7.46  1458813   \n",
       "\n",
       "                           user_session  duration_to_next_event  \\\n",
       "0  d0484d94-7ac1-44e8-a310-2360da11ad9d                     0.0   \n",
       "1  b16644a2-44db-4650-8156-f6f03782d432                     0.0   \n",
       "2  6873a205-d9f5-4d51-b3eb-b4bfddfe907c                     0.0   \n",
       "3  921ff98c-a419-4132-af94-ee26880334b0                     0.0   \n",
       "4  921ff98c-a419-4132-af94-ee26880334b0                    21.0   \n",
       "\n",
       "   funnel_number  index_in_funnel  \n",
       "0              1                1  \n",
       "1              1                1  \n",
       "2              1                2  \n",
       "3              1                3  \n",
       "4              1                4  "
      ]
     },
     "execution_count": 6,
     "metadata": {},
     "output_type": "execute_result"
    }
   ],
   "source": [
    "import re\n",
    "\n",
    "#פונקציה שמתקנת ערך מסויים להכיל רק ספרות ונקודות\n",
    "def extract_price(price_to_fix):\n",
    "    price = re.findall('[0-9.]+', str(price_to_fix))\n",
    "    return float(price[0]) ## הוספתי את ה-אפס כי לקבל את המקום האפס במערך\n",
    "\n",
    "# מבצע את הפונקציה על כל ערך בעמודת המחיר\n",
    "data['price'] = data['price'].apply(extract_price)\n",
    "\n",
    "#לרוב פונקציה אפעיל על עדכון עמודה קיימת ואגרגציה אפעיל על יצירת עמודה חדשה\n",
    "\n",
    "data.head()"
   ]
  },
  {
   "cell_type": "markdown",
   "id": "d1cbff06-8e85-4258-bc23-6481135ef99c",
   "metadata": {},
   "source": [
    "## Q5 : "
   ]
  },
  {
   "cell_type": "code",
   "execution_count": 7,
   "id": "e5cd09fc-6884-43af-ac66-a6494c8af812",
   "metadata": {
    "tags": []
   },
   "outputs": [
    {
     "data": {
      "image/png": "[encoded data removed]",
      "text/plain": [
       "<Figure size 640x480 with 1 Axes>"
      ]
     },
     "metadata": {},
     "output_type": "display_data"
    }
   ],
   "source": [
    "import matplotlib.pyplot as plt\n",
    "\n",
    "event_count = data['event_type'].value_counts()\n",
    "#דרך נוספת:\n",
    "#event_count = data.groupby('event_type').size()\n",
    "\n",
    "ax=event_count.plot(kind='bar')\n",
    "ax.set_xticklabels(event_count.index, rotation=45, ha='right')\n",
    "plt.xlabel('Event Type')\n",
    "plt.ylabel('Count')\n",
    "plt.title('Number of Events by Type')\n",
    "plt.show()\n"
   ]
  },
  {
   "cell_type": "markdown",
   "id": "73728798-4bad-4cd5-ab90-6ac74f1eeb31",
   "metadata": {},
   "source": [
    "## Q6 : \n",
    "#### חשוב לציין שבנוגע לסעיפי הרשימות, במקרה ואין אירוע מסוג זה המתאים לביקור מסויים יופיע הערך 0 ולא ערך ריק "
   ]
  },
  {
   "cell_type": "markdown",
   "id": "aba934b8-8cac-4fa0-8ebe-2de019a4d40e",
   "metadata": {},
   "source": [
    "### a,b,c,d."
   ]
  },
  {
   "cell_type": "code",
   "execution_count": 8,
   "id": "a2701004-e87a-41c4-a20c-8bd0d4988d7a",
   "metadata": {},
   "outputs": [],
   "source": [
    "session_data = data[['user_id', 'user_session', 'funnel_number', 'index_in_funnel']]"
   ]
  },
  {
   "cell_type": "markdown",
   "id": "b10cf9c3-7a71-4a40-ba70-2c45e6155c9d",
   "metadata": {},
   "source": [
    "### e. מספר האירועים הכולל שביצוע המשתמש באותו ביקור "
   ]
  },
  {
   "cell_type": "code",
   "execution_count": 9,
   "id": "5cb58837-ffbe-4b2b-8a91-3861c41ca3c2",
   "metadata": {
    "tags": []
   },
   "outputs": [
    {
     "name": "stderr",
     "output_type": "stream",
     "text": [
      "C:\\Users\\shirs\\AppData\\Local\\Temp\\ipykernel_7652\\3093066697.py:1: SettingWithCopyWarning: \n",
      "A value is trying to be set on a copy of a slice from a DataFrame.\n",
      "Try using .loc[row_indexer,col_indexer] = value instead\n",
      "\n",
      "See the caveats in the documentation: https://pandas.pydata.org/pandas-docs/stable/user_guide/indexing.html#returning-a-view-versus-a-copy\n",
      "  session_data['sum_of_events_in_session'] = data.groupby(['user_id', 'user_session']).cumcount() + 1 #ספירה המתחילה מ1\n"
     ]
    }
   ],
   "source": [
    "session_data['sum_of_events_in_session'] = data.groupby(['user_id', 'user_session']).cumcount() + 1 #ספירה המתחילה מ1"
   ]
  },
  {
   "cell_type": "markdown",
   "id": "2166bfb4-d02c-4b63-b366-9dca9abf9d11",
   "metadata": {},
   "source": [
    "### f. משך הביקור באתר "
   ]
  },
  {
   "cell_type": "code",
   "execution_count": 10,
   "id": "abaa0853-200e-4c87-af63-d616ed98b9af",
   "metadata": {},
   "outputs": [],
   "source": [
    "#בניית טבלה חדשה שמייצרת עמודה של זמן ביקור באתר בשניות ,עבור ביקור מסויים\n",
    "time_in_session_in_seconds = data.groupby('user_session').agg({'event_time': lambda x: (max(x) - min(x)).seconds})\n",
    "#איחוד הטבלאות ועדכון הטבלה הרלוונטית על בסיס מספר ביקור \n",
    "session_data = session_data.merge(time_in_session_in_seconds, on=['user_session'], how='left')\n",
    "#שינוי שם עמודה לשם חדש\n",
    "session_data = session_data.rename(columns={'event_time': 'time_in_session_in_seconds'})"
   ]
  },
  {
   "cell_type": "markdown",
   "id": "b72c9e92-caf4-4593-bf2b-9a400b3ffccd",
   "metadata": {},
   "source": [
    "### g. list_of_viewed - רשימת מוצרים שבהם צפה המשתמש בביקור "
   ]
  },
  {
   "cell_type": "code",
   "execution_count": 11,
   "id": "c2ef2b6e-ac25-4133-92b1-9312a839a058",
   "metadata": {},
   "outputs": [],
   "source": [
    "#בניית טבלה חדשה שמייצרת עמודה של רשימת מוצרים שבהם צפה המשתמש ,עבור ביקור מסויים\n",
    "list_of_viewed = data[data['event_type'] == 'view'].groupby('user_session').agg({'product_id': lambda x: list(set(x))})\n",
    "#איחוד הטבלאות ועדכון הטבלה הרלוונטית על בסיס מספר ביקור \n",
    "session_data = session_data.merge(list_of_viewed, on=['user_session'], how='left')\n",
    "#שינוי שם עמודה לשם חדש\n",
    "session_data = session_data.rename(columns={'product_id': 'list_of_viewed'})"
   ]
  },
  {
   "cell_type": "markdown",
   "id": "d3ebbf5f-671e-49e4-9da4-c8e467256724",
   "metadata": {},
   "source": [
    "### h. list_of_added_to_cart – רשימת המוצרים שנוספו לעגלה בביקור "
   ]
  },
  {
   "cell_type": "code",
   "execution_count": 12,
   "id": "efc7fe1e-e9af-44f8-8032-2c2de2b71b1c",
   "metadata": {},
   "outputs": [],
   "source": [
    "#בניית טבלה חדשה שמייצרת עמודה של רשימת המוצרים שנוספו לעגלה ,עבור ביקור מסויים\n",
    "list_of_added_to_cart = data[data['event_type'] == 'cart'].groupby('user_session').agg({'product_id': lambda x: list(set(x))})\n",
    "#איחוד הטבלאות ועדכון הטבלה הרלוונטית על בסיס מספר ביקור \n",
    "session_data = session_data.merge(list_of_added_to_cart, on=['user_session'], how='left')\n",
    "#שינוי שם עמודה לשם חדש\n",
    "session_data = session_data.rename(columns={'product_id': 'list_of_added_to_cart'})"
   ]
  },
  {
   "cell_type": "markdown",
   "id": "8a0a245f-049d-4e25-964d-ad8ca9566a87",
   "metadata": {},
   "source": [
    "### i. list_of_purchased – רשימת המוצרים שנרכשו בביקור "
   ]
  },
  {
   "cell_type": "code",
   "execution_count": 13,
   "id": "e3877d12-2ae5-45a3-836f-39e614688527",
   "metadata": {},
   "outputs": [
    {
     "data": {
      "text/html": [
       "<div>\n",
       "<style scoped>\n",
       "    .dataframe tbody tr th:only-of-type {\n",
       "        vertical-align: middle;\n",
       "    }\n",
       "\n",
       "    .dataframe tbody tr th {\n",
       "        vertical-align: top;\n",
       "    }\n",
       "\n",
       "    .dataframe thead th {\n",
       "        text-align: right;\n",
       "    }\n",
       "</style>\n",
       "<table border=\"1\" class=\"dataframe\">\n",
       "  <thead>\n",
       "    <tr style=\"text-align: right;\">\n",
       "      <th></th>\n",
       "      <th>user_id</th>\n",
       "      <th>user_session</th>\n",
       "      <th>funnel_number</th>\n",
       "      <th>index_in_funnel</th>\n",
       "      <th>sum_of_events_in_session</th>\n",
       "      <th>time_in_session_in_seconds</th>\n",
       "      <th>list_of_viewed</th>\n",
       "      <th>list_of_added_to_cart</th>\n",
       "      <th>list_of_purchased</th>\n",
       "    </tr>\n",
       "  </thead>\n",
       "  <tbody>\n",
       "    <tr>\n",
       "      <th>0</th>\n",
       "      <td>1120748</td>\n",
       "      <td>d0484d94-7ac1-44e8-a310-2360da11ad9d</td>\n",
       "      <td>1</td>\n",
       "      <td>1</td>\n",
       "      <td>1.0</td>\n",
       "      <td>0.0</td>\n",
       "      <td>[5240]</td>\n",
       "      <td>0</td>\n",
       "      <td>0</td>\n",
       "    </tr>\n",
       "    <tr>\n",
       "      <th>1</th>\n",
       "      <td>1458813</td>\n",
       "      <td>b16644a2-44db-4650-8156-f6f03782d432</td>\n",
       "      <td>1</td>\n",
       "      <td>1</td>\n",
       "      <td>1.0</td>\n",
       "      <td>0.0</td>\n",
       "      <td>[5711145]</td>\n",
       "      <td>0</td>\n",
       "      <td>0</td>\n",
       "    </tr>\n",
       "    <tr>\n",
       "      <th>2</th>\n",
       "      <td>1458813</td>\n",
       "      <td>6873a205-d9f5-4d51-b3eb-b4bfddfe907c</td>\n",
       "      <td>1</td>\n",
       "      <td>2</td>\n",
       "      <td>1.0</td>\n",
       "      <td>0.0</td>\n",
       "      <td>[5814066]</td>\n",
       "      <td>0</td>\n",
       "      <td>0</td>\n",
       "    </tr>\n",
       "    <tr>\n",
       "      <th>3</th>\n",
       "      <td>1458813</td>\n",
       "      <td>921ff98c-a419-4132-af94-ee26880334b0</td>\n",
       "      <td>1</td>\n",
       "      <td>3</td>\n",
       "      <td>1.0</td>\n",
       "      <td>3789.0</td>\n",
       "      <td>[5905673, 5905674, 5711117, 5542414, 5711122, ...</td>\n",
       "      <td>0</td>\n",
       "      <td>0</td>\n",
       "    </tr>\n",
       "    <tr>\n",
       "      <th>4</th>\n",
       "      <td>1458813</td>\n",
       "      <td>921ff98c-a419-4132-af94-ee26880334b0</td>\n",
       "      <td>1</td>\n",
       "      <td>4</td>\n",
       "      <td>2.0</td>\n",
       "      <td>3789.0</td>\n",
       "      <td>[5905673, 5905674, 5711117, 5542414, 5711122, ...</td>\n",
       "      <td>0</td>\n",
       "      <td>0</td>\n",
       "    </tr>\n",
       "    <tr>\n",
       "      <th>...</th>\n",
       "      <td>...</td>\n",
       "      <td>...</td>\n",
       "      <td>...</td>\n",
       "      <td>...</td>\n",
       "      <td>...</td>\n",
       "      <td>...</td>\n",
       "      <td>...</td>\n",
       "      <td>...</td>\n",
       "      <td>...</td>\n",
       "    </tr>\n",
       "    <tr>\n",
       "      <th>4635832</th>\n",
       "      <td>579968623</td>\n",
       "      <td>a06e9a89-55ff-4c3a-abd6-aa4fdf808058</td>\n",
       "      <td>1</td>\n",
       "      <td>3</td>\n",
       "      <td>3.0</td>\n",
       "      <td>38.0</td>\n",
       "      <td>[5886282, 5892179, 5900651]</td>\n",
       "      <td>0</td>\n",
       "      <td>0</td>\n",
       "    </tr>\n",
       "    <tr>\n",
       "      <th>4635833</th>\n",
       "      <td>579968623</td>\n",
       "      <td>a06e9a89-55ff-4c3a-abd6-aa4fdf808058</td>\n",
       "      <td>1</td>\n",
       "      <td>4</td>\n",
       "      <td>4.0</td>\n",
       "      <td>38.0</td>\n",
       "      <td>[5886282, 5892179, 5900651]</td>\n",
       "      <td>0</td>\n",
       "      <td>0</td>\n",
       "    </tr>\n",
       "    <tr>\n",
       "      <th>4635834</th>\n",
       "      <td>579968623</td>\n",
       "      <td>a06e9a89-55ff-4c3a-abd6-aa4fdf808058</td>\n",
       "      <td>1</td>\n",
       "      <td>5</td>\n",
       "      <td>5.0</td>\n",
       "      <td>38.0</td>\n",
       "      <td>[5886282, 5892179, 5900651]</td>\n",
       "      <td>0</td>\n",
       "      <td>0</td>\n",
       "    </tr>\n",
       "    <tr>\n",
       "      <th>4635835</th>\n",
       "      <td>579968937</td>\n",
       "      <td>878af093-7570-48ae-966c-d50ce61e390c</td>\n",
       "      <td>1</td>\n",
       "      <td>1</td>\n",
       "      <td>1.0</td>\n",
       "      <td>0.0</td>\n",
       "      <td>[5790563]</td>\n",
       "      <td>0</td>\n",
       "      <td>0</td>\n",
       "    </tr>\n",
       "    <tr>\n",
       "      <th>4635836</th>\n",
       "      <td>579969854</td>\n",
       "      <td>e9fa2c3e-8c9e-448c-880a-21ca57c18b3b</td>\n",
       "      <td>1</td>\n",
       "      <td>1</td>\n",
       "      <td>1.0</td>\n",
       "      <td>0.0</td>\n",
       "      <td>[5880201]</td>\n",
       "      <td>0</td>\n",
       "      <td>0</td>\n",
       "    </tr>\n",
       "  </tbody>\n",
       "</table>\n",
       "<p>4635837 rows × 9 columns</p>\n",
       "</div>"
      ],
      "text/plain": [
       "           user_id                          user_session  funnel_number  \\\n",
       "0          1120748  d0484d94-7ac1-44e8-a310-2360da11ad9d              1   \n",
       "1          1458813  b16644a2-44db-4650-8156-f6f03782d432              1   \n",
       "2          1458813  6873a205-d9f5-4d51-b3eb-b4bfddfe907c              1   \n",
       "3          1458813  921ff98c-a419-4132-af94-ee26880334b0              1   \n",
       "4          1458813  921ff98c-a419-4132-af94-ee26880334b0              1   \n",
       "...            ...                                   ...            ...   \n",
       "4635832  579968623  a06e9a89-55ff-4c3a-abd6-aa4fdf808058              1   \n",
       "4635833  579968623  a06e9a89-55ff-4c3a-abd6-aa4fdf808058              1   \n",
       "4635834  579968623  a06e9a89-55ff-4c3a-abd6-aa4fdf808058              1   \n",
       "4635835  579968937  878af093-7570-48ae-966c-d50ce61e390c              1   \n",
       "4635836  579969854  e9fa2c3e-8c9e-448c-880a-21ca57c18b3b              1   \n",
       "\n",
       "         index_in_funnel  sum_of_events_in_session  \\\n",
       "0                      1                       1.0   \n",
       "1                      1                       1.0   \n",
       "2                      2                       1.0   \n",
       "3                      3                       1.0   \n",
       "4                      4                       2.0   \n",
       "...                  ...                       ...   \n",
       "4635832                3                       3.0   \n",
       "4635833                4                       4.0   \n",
       "4635834                5                       5.0   \n",
       "4635835                1                       1.0   \n",
       "4635836                1                       1.0   \n",
       "\n",
       "         time_in_session_in_seconds  \\\n",
       "0                               0.0   \n",
       "1                               0.0   \n",
       "2                               0.0   \n",
       "3                            3789.0   \n",
       "4                            3789.0   \n",
       "...                             ...   \n",
       "4635832                        38.0   \n",
       "4635833                        38.0   \n",
       "4635834                        38.0   \n",
       "4635835                         0.0   \n",
       "4635836                         0.0   \n",
       "\n",
       "                                            list_of_viewed  \\\n",
       "0                                                   [5240]   \n",
       "1                                                [5711145]   \n",
       "2                                                [5814066]   \n",
       "3        [5905673, 5905674, 5711117, 5542414, 5711122, ...   \n",
       "4        [5905673, 5905674, 5711117, 5542414, 5711122, ...   \n",
       "...                                                    ...   \n",
       "4635832                        [5886282, 5892179, 5900651]   \n",
       "4635833                        [5886282, 5892179, 5900651]   \n",
       "4635834                        [5886282, 5892179, 5900651]   \n",
       "4635835                                          [5790563]   \n",
       "4635836                                          [5880201]   \n",
       "\n",
       "        list_of_added_to_cart list_of_purchased  \n",
       "0                           0                 0  \n",
       "1                           0                 0  \n",
       "2                           0                 0  \n",
       "3                           0                 0  \n",
       "4                           0                 0  \n",
       "...                       ...               ...  \n",
       "4635832                     0                 0  \n",
       "4635833                     0                 0  \n",
       "4635834                     0                 0  \n",
       "4635835                     0                 0  \n",
       "4635836                     0                 0  \n",
       "\n",
       "[4635837 rows x 9 columns]"
      ]
     },
     "execution_count": 13,
     "metadata": {},
     "output_type": "execute_result"
    }
   ],
   "source": [
    "#בניית טבלה חדשה שמייצרת עמודה של רשימת מוצרים שרשימת המוצרים שנרכשו,עבור ביקור מסויים\n",
    "list_of_purchased = data[data['event_type'] == 'purchase'].groupby('user_session').agg({'product_id': lambda x: list(set(x))})\n",
    "#איחוד הטבלאות ועדכון הטבלה הרלוונטית על בסיס מספר ביקור \n",
    "session_data = session_data.merge(list_of_purchased, on=['user_session'], how='left')\n",
    "#שינוי שם עמודה לשם חדש\n",
    "session_data = session_data.rename(columns={'product_id': 'list_of_purchased'})\n",
    "\n",
    "session_data.fillna(0, inplace=True)\n",
    "session_data"
   ]
  }
 ],
 "metadata": {
  "kernelspec": {
   "display_name": "Python 3 (ipykernel)",
   "language": "python",
   "name": "python3"
  },
  "language_info": {
   "codemirror_mode": {
    "name": "ipython",
    "version": 3
   },
   "file_extension": ".py",
   "mimetype": "text/x-python",
   "name": "python",
   "nbconvert_exporter": "python",
   "pygments_lexer": "ipython3",
   "version": "3.10.9"
  }
 },
 "nbformat": 4,
 "nbformat_minor": 5
}
